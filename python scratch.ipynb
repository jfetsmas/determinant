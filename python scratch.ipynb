{
 "cells": [
  {
   "cell_type": "code",
   "execution_count": 37,
   "metadata": {},
   "outputs": [],
   "source": [
    "import numpy as np\n",
    "\n",
    "def phi_normal(x,Nphi):\n",
    "  #this function is for scalar x\n",
    "  center = 0\n",
    "  sigma = 1\n",
    "  centers = center + np.arange(Nphi)*0.5*sigma\n",
    "  phi = 1/np.sqrt(2*np.pi*sigma**2)*np.exp(-(x-centers)**2/(2*sigma**2))\n",
    "\n",
    "  return phi"
   ]
  },
  {
   "cell_type": "code",
   "execution_count": 38,
   "metadata": {},
   "outputs": [
    {
     "data": {
      "text/plain": [
       "array([0.35206533, 0.39894228, 0.35206533, 0.24197072])"
      ]
     },
     "execution_count": 38,
     "metadata": {},
     "output_type": "execute_result"
    }
   ],
   "source": [
    "phi_normal(0.5,4)"
   ]
  },
  {
   "cell_type": "code",
   "execution_count": 39,
   "metadata": {},
   "outputs": [],
   "source": [
    "def phi_normal(x,Nphi):\n",
    "  #this function is for scalar x\n",
    "  center = 0\n",
    "  sigma = 1\n",
    "  centers = center + np.arange(Nphi)*0.5*sigma\n",
    "  phi = 1/np.sqrt(2*np.pi*sigma**2)*np.exp(-(x-centers)**2/(2*sigma**2))\n",
    "\n",
    "  return phi\n",
    "  \n",
    "Ne = 4\n",
    "\n",
    "def phi_func(x):\n",
    "    return phi_normal(x,Ne)"
   ]
  },
  {
   "cell_type": "code",
   "execution_count": 40,
   "metadata": {},
   "outputs": [
    {
     "data": {
      "text/plain": [
       "array([0.24197072, 0.35206533, 0.39894228, 0.35206533])"
      ]
     },
     "execution_count": 40,
     "metadata": {},
     "output_type": "execute_result"
    }
   ],
   "source": [
    "phi_func(1)"
   ]
  },
  {
   "cell_type": "code",
   "execution_count": 41,
   "metadata": {},
   "outputs": [],
   "source": [
    "def slater_det_evaluate(phi_func,x):\n",
    "  Nphi = Ne\n",
    "  phi_val_mat = np.zeros((Nphi,Nphi))\n",
    "  # Evaluate the value of the orbitals  phi_j(x_i)\n",
    "  for i in range(0, Nphi-1):\n",
    "      phi_val_mat[:,i] = phi_func(x[i])\n",
    "  return np.linalg.det(phi_val_mat)\n",
    "  \n",
    "def H_evaluate(phi_func,x):\n",
    "  slater = slater_det_evaluate(phi_func,x)\n",
    "  return -np.log((slater)**2)"
   ]
  },
  {
   "cell_type": "code",
   "execution_count": 42,
   "metadata": {},
   "outputs": [],
   "source": [
    "Ne=4\n",
    "data_folder = 'data/'\n",
    "filenameIpt = data_folder + 'x_normalNO_'  + str(Ne) + '.dat'\n",
    "filenameOpt = data_folder + 'psi_normalNO_' + str(Ne) + '.dat'\n",
    "\n",
    "xraw  = np.loadtxt(filenameIpt, delimiter=None, usecols=range(Ne))"
   ]
  },
  {
   "cell_type": "code",
   "execution_count": 43,
   "metadata": {},
   "outputs": [],
   "source": [
    "xinput = xraw[0,:]"
   ]
  },
  {
   "cell_type": "code",
   "execution_count": 44,
   "metadata": {},
   "outputs": [
    {
     "name": "stderr",
     "output_type": "stream",
     "text": [
      "/Users/jeffzzzz/.julia/v0.6/Conda/deps/usr/lib/python2.7/site-packages/ipykernel_launcher.py:11: RuntimeWarning: divide by zero encountered in log\n",
      "  # This is added back by InteractiveShellApp.init_path()\n"
     ]
    },
    {
     "data": {
      "text/plain": [
       "inf"
      ]
     },
     "execution_count": 44,
     "metadata": {},
     "output_type": "execute_result"
    }
   ],
   "source": [
    "H_evaluate(phi_func,xinput)"
   ]
  },
  {
   "cell_type": "code",
   "execution_count": null,
   "metadata": {},
   "outputs": [],
   "source": []
  }
 ],
 "metadata": {
  "kernelspec": {
   "display_name": "Python 2",
   "language": "python",
   "name": "python2"
  },
  "language_info": {
   "codemirror_mode": {
    "name": "ipython",
    "version": 2
   },
   "file_extension": ".py",
   "mimetype": "text/x-python",
   "name": "python",
   "nbconvert_exporter": "python",
   "pygments_lexer": "ipython2",
   "version": "2.7.14"
  }
 },
 "nbformat": 4,
 "nbformat_minor": 2
}
